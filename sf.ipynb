{
 "cells": [
  {
   "cell_type": "code",
   "execution_count": 45,
   "metadata": {},
   "outputs": [],
   "source": [
    "import matplotlib.image as mpimg\n",
    "import numpy as np # linear algebra\n",
    "import pandas as pd # data processing, CSV file I/O (e.g. pd.read_csv)\n",
    "from matplotlib import pyplot as plt\n",
    "%matplotlib inline\n",
    "import matplotlib \n",
    "matplotlib.rcParams[\"figure.figsize\"] = (20,10)\n",
    "import seaborn as sns\n",
    "from sklearn import preprocessing\n",
    "from sklearn import model_selection\n",
    "import sklearn\n",
    "import xgboost\n",
    "\n"
   ]
  },
  {
   "cell_type": "code",
   "execution_count": null,
   "metadata": {},
   "outputs": [],
   "source": [
    "home = pd.read_csv(\"C:\\\\mkc\\\\bengaluru_house_prices.csv\")\n",
    "home.head()"
   ]
  },
  {
   "cell_type": "code",
   "execution_count": 47,
   "metadata": {},
   "outputs": [],
   "source": [
    "home.dropna(inplace =True)"
   ]
  },
  {
   "cell_type": "code",
   "execution_count": 48,
   "metadata": {},
   "outputs": [],
   "source": [
    "home = home.drop(columns='society')"
   ]
  },
  {
   "cell_type": "code",
   "execution_count": 49,
   "metadata": {},
   "outputs": [],
   "source": [
    "home.reset_index(drop= True, inplace =True)"
   ]
  },
  {
   "cell_type": "code",
   "execution_count": 50,
   "metadata": {},
   "outputs": [],
   "source": [
    "home['bhk'] = home['size'].str.split().str[0]\n",
    "home['bhk'].dropna(inplace = True)\n",
    "home['bhk'] = home['bhk'].astype('int')"
   ]
  },
  {
   "cell_type": "code",
   "execution_count": 51,
   "metadata": {},
   "outputs": [],
   "source": [
    "def convert_sqft_to_num(x):\n",
    "    tokens = x.split('-')\n",
    "    if len(tokens) == 2:\n",
    "        return (float(tokens[0])+float(tokens[1]))/2\n",
    "    try:\n",
    "        return float(x)\n",
    "    except:\n",
    "        return None"
   ]
  },
  {
   "cell_type": "code",
   "execution_count": null,
   "metadata": {},
   "outputs": [],
   "source": [
    "home.total_sqft = home.total_sqft.apply(convert_sqft_to_num)\n",
    "home = home[home.total_sqft.notnull()]\n",
    "home.head(2)"
   ]
  },
  {
   "cell_type": "code",
   "execution_count": null,
   "metadata": {},
   "outputs": [],
   "source": [
    "home = home[~(home.total_sqft/home.bhk<200)]\n",
    "home.shape"
   ]
  },
  {
   "cell_type": "code",
   "execution_count": 54,
   "metadata": {},
   "outputs": [],
   "source": [
    "cont_ = home.select_dtypes(exclude = 'object')\n",
    "cat_ = home.select_dtypes(include  = 'object')"
   ]
  },
  {
   "cell_type": "code",
   "execution_count": 55,
   "metadata": {},
   "outputs": [],
   "source": [
    "home = home.drop(home[home['bath']>6].index)\n",
    "home = home.drop(home[home['bhk']>7.0].index)"
   ]
  },
  {
   "cell_type": "code",
   "execution_count": 56,
   "metadata": {},
   "outputs": [],
   "source": [
    "home['price_per_sqft'] = home['price']*100000/home['total_sqft']\n"
   ]
  },
  {
   "cell_type": "code",
   "execution_count": null,
   "metadata": {},
   "outputs": [],
   "source": [
    "def remove_pps_outliers(df):\n",
    "    df_out = pd.DataFrame()\n",
    "    for key, subdf in df.groupby('location'):\n",
    "        m = np.mean(subdf.price_per_sqft)\n",
    "        st = np.std(subdf.price_per_sqft)\n",
    "        reduced_df = subdf[(subdf.price_per_sqft>(m-st)) & (subdf.price_per_sqft<=(m+st))]\n",
    "        df_out = pd.concat([df_out,reduced_df],ignore_index=True)\n",
    "    return df_out\n",
    "home = remove_pps_outliers(home)\n",
    "home.shape"
   ]
  },
  {
   "cell_type": "code",
   "execution_count": 14,
   "metadata": {},
   "outputs": [],
   "source": [
    "home.drop(columns=['availability','size','area_type'],inplace = True)"
   ]
  },
  {
   "cell_type": "code",
   "execution_count": null,
   "metadata": {},
   "outputs": [],
   "source": [
    "home.location = home.location.str.strip()\n",
    "location_stats = home['location'].value_counts(ascending=False)\n",
    "location_stats"
   ]
  },
  {
   "cell_type": "code",
   "execution_count": null,
   "metadata": {},
   "outputs": [],
   "source": [
    "location_stats_less_than_10 = location_stats[location_stats<=10]\n",
    "location_stats_less_than_10"
   ]
  },
  {
   "cell_type": "code",
   "execution_count": 17,
   "metadata": {},
   "outputs": [],
   "source": [
    "home.location = home.location.apply(lambda x: 'other' if x in location_stats_less_than_10 else x)\n",
    "\n",
    "home = home[home.location != 'other']"
   ]
  },
  {
   "cell_type": "code",
   "execution_count": 18,
   "metadata": {},
   "outputs": [],
   "source": [
    "home = home[home.bath<home.bhk+2]"
   ]
  },
  {
   "cell_type": "code",
   "execution_count": null,
   "metadata": {},
   "outputs": [],
   "source": [
    "import pandas as pd\n",
    "from sklearn.pipeline import Pipeline\n",
    "from sklearn.compose import ColumnTransformer\n",
    "from sklearn.preprocessing import StandardScaler, OrdinalEncoder\n",
    "from sklearn.ensemble import RandomForestRegressor\n",
    "from sklearn.model_selection import train_test_split\n",
    "import joblib\n",
    "\n",
    "# Load the dataset\n",
    "home = pd.read_csv('bengaluru_house_prices.csv')\n",
    "\n",
    "# Extract 'bhk' from 'size' column (e.g., \"2 BHK\" -> 2)\n",
    "home['bhk'] = home['size'].str.extract('(\\d+)').astype(float)\n",
    "\n",
    "# Select relevant features and target\n",
    "X = home[['total_sqft', 'bath', 'bhk', 'location']]\n",
    "y = home['price']\n",
    "\n",
    "# Split the data into train and test sets\n",
    "X_train, X_test, y_train, y_test = train_test_split(X, y, test_size=0.2, random_state=42)\n",
    "\n",
    "# Define the preprocessing steps\n",
    "numeric_features = ['total_sqft', 'bath', 'bhk']\n",
    "numeric_transformer = StandardScaler()\n",
    "\n",
    "categorical_features = ['location']\n",
    "categorical_transformer = OrdinalEncoder()\n",
    "\n",
    "# Combine preprocessing steps using ColumnTransformer\n",
    "preprocessor = ColumnTransformer(\n",
    "    transformers=[\n",
    "        ('num', numeric_transformer, numeric_features),\n",
    "        ('cat', categorical_transformer, categorical_features)\n",
    "    ]\n",
    ")\n",
    "\n",
    "# Create a pipeline that combines preprocessing with the model\n",
    "model = Pipeline(steps=[\n",
    "    ('preprocessor', preprocessor),\n",
    "    ('regressor', RandomForestRegressor(random_state=42))\n",
    "])\n",
    "\n",
    "# Train the pipeline\n",
    "model.fit(X_train, y_train)\n",
    "\n",
    "# Save the trained pipeline\n",
    "joblib.dump(model, 'model_pipeline.pkl')\n",
    "print(\"Model and preprocessing pipeline saved!\")\n"
   ]
  },
  {
   "cell_type": "code",
   "execution_count": 57,
   "metadata": {},
   "outputs": [],
   "source": [
    "valid_locations = encoder.categories_[0]\n"
   ]
  },
  {
   "cell_type": "code",
   "execution_count": 58,
   "metadata": {},
   "outputs": [
    {
     "data": {
      "text/plain": [
       "array(['7th Phase JP Nagar', '8th Phase JP Nagar', '9th Phase JP Nagar',\n",
       "       'Abbigere', 'Akshaya Nagar', 'Ambalipura', 'Ambedkar Nagar',\n",
       "       'Ardendale', 'Attibele', 'BTM 2nd Stage', 'Balagere',\n",
       "       'Banashankari', 'Bannerghatta Road', 'Begur', 'Begur Road',\n",
       "       'Bellandur', 'Bhoganhalli', 'Binny Pete', 'Bisuvanahalli',\n",
       "       'Bommasandra', 'Brookefield', 'Budigere', 'CV Raman Nagar',\n",
       "       'Chandapura', 'Channasandra', 'Choodasandra', 'Devanahalli',\n",
       "       'Doddathoguru', 'EPIP Zone', 'Electronic City',\n",
       "       'Electronic City Phase II', 'Electronics City Phase 1',\n",
       "       'Frazer Town', 'Gottigere', 'Green Glen Layout', 'Gunjur',\n",
       "       'HSR Layout', 'Haralur Road', 'Harlur', 'Hebbal',\n",
       "       'Hebbal Kempapura', 'Hegde Nagar', 'Hennur', 'Hennur Road',\n",
       "       'Hoodi', 'Horamavu Agara', 'Hormavu', 'Hosa Road', 'Hosakerehalli',\n",
       "       'Hoskote', 'Hosur Road', 'Hulimavu', 'Iblur Village',\n",
       "       'Indira Nagar', 'JP Nagar', 'Jakkur', 'Jalahalli', 'Jigani',\n",
       "       'KR Puram', 'Kadugodi', 'Kaggadasapura', 'Kaggalipura',\n",
       "       'Kalena Agrahara', 'Kambipura', 'Kammasandra', 'Kanakapura',\n",
       "       'Kanakpura Road', 'Kasavanhalli', 'Kengeri',\n",
       "       'Kengeri Satellite Town', 'Kereguddadahalli', 'Kodichikkanahalli',\n",
       "       'Koramangala', 'Kothanur', 'Kudlu', 'Kudlu Gate', 'Kundalahalli',\n",
       "       'Lakshminarayana Pura', 'Lingadheeranahalli', 'Magadi Road',\n",
       "       'Mahadevpura', 'Malleshwaram', 'Marathahalli', 'Mysore Road',\n",
       "       'Old Airport Road', 'Old Madras Road', 'Panathur', 'Rachenahalli',\n",
       "       'Raja Rajeshwari Nagar', 'Rajaji Nagar', 'Ramagondanahalli',\n",
       "       'Ramamurthy Nagar', 'Sahakara Nagar', 'Sarjapur', 'Sarjapur  Road',\n",
       "       'Somasundara Palya', 'Sonnenahalli', 'Subramanyapura',\n",
       "       'Talaghattapura', 'Thanisandra', 'Thigalarapalya', 'Thubarahalli',\n",
       "       'Tumkur Road', 'Uttarahalli', 'Varthur', 'Vijayanagar',\n",
       "       'Vittasandra', 'Whitefield', 'Yelahanka', 'Yelahanka New Town',\n",
       "       'Yeshwanthpur'], dtype=object)"
      ]
     },
     "execution_count": 58,
     "metadata": {},
     "output_type": "execute_result"
    }
   ],
   "source": [
    "valid_locations"
   ]
  },
  {
   "cell_type": "code",
   "execution_count": 31,
   "metadata": {},
   "outputs": [],
   "source": [
    "X = home1.drop('price',axis = 1).values \n",
    "y = home1.price.values \n",
    "y = y[:,np.newaxis]"
   ]
  },
  {
   "cell_type": "code",
   "execution_count": 32,
   "metadata": {},
   "outputs": [],
   "source": [
    "sc = preprocessing.StandardScaler()\n",
    "X1 = sc.fit_transform(X)"
   ]
  },
  {
   "cell_type": "code",
   "execution_count": 33,
   "metadata": {},
   "outputs": [],
   "source": [
    "Std_x1 = preprocessing.scale(X)"
   ]
  },
  {
   "cell_type": "code",
   "execution_count": 34,
   "metadata": {},
   "outputs": [],
   "source": [
    "from sklearn.model_selection import train_test_split\n",
    "X_train, X_test, y_train, y_test = train_test_split(X1,y,test_size=0.3,random_state=10)"
   ]
  },
  {
   "cell_type": "code",
   "execution_count": 35,
   "metadata": {},
   "outputs": [],
   "source": [
    "from sklearn.ensemble import RandomForestRegressor, GradientBoostingRegressor\n",
    "from sklearn.metrics import mean_absolute_error, r2_score"
   ]
  },
  {
   "cell_type": "code",
   "execution_count": 36,
   "metadata": {},
   "outputs": [],
   "source": [
    "from xgboost import XGBRegressor\n"
   ]
  },
  {
   "cell_type": "code",
   "execution_count": null,
   "metadata": {},
   "outputs": [],
   "source": [
    "from sklearn.model_selection import RandomizedSearchCV\n",
    "\n",
    "param_grid = {\n",
    "    'n_estimators': [50, 100, 200],\n",
    "    'max_depth': [3, 5, 10],\n",
    "    'min_samples_split': [2, 5, 10]\n",
    "}\n",
    "grid_search = RandomizedSearchCV(RandomForestRegressor(), param_grid, cv=3)\n",
    "grid_search.fit(X_train, y_train)\n",
    "print(grid_search.best_params_)\n"
   ]
  },
  {
   "cell_type": "code",
   "execution_count": 38,
   "metadata": {},
   "outputs": [],
   "source": [
    "best_model = grid_search.best_estimator_\n"
   ]
  },
  {
   "cell_type": "code",
   "execution_count": 39,
   "metadata": {},
   "outputs": [],
   "source": [
    "y_pred = best_model.predict(X_test)\n"
   ]
  },
  {
   "cell_type": "code",
   "execution_count": null,
   "metadata": {},
   "outputs": [],
   "source": [
    "from sklearn.metrics import r2_score, mean_absolute_error\n",
    "\n",
    "# Calculate R² score\n",
    "r2 = r2_score(y_test, y_pred)\n",
    "print(f\"R² score: {r2}\")\n",
    "\n",
    "# Calculate Mean Absolute Error (MAE)\n",
    "mae = mean_absolute_error(y_test, y_pred)\n",
    "print(f\"Mean Absolute Error (MAE): {mae}\")"
   ]
  },
  {
   "cell_type": "code",
   "execution_count": null,
   "metadata": {},
   "outputs": [],
   "source": []
  }
 ],
 "metadata": {
  "kernelspec": {
   "display_name": "Python 3",
   "language": "python",
   "name": "python3"
  },
  "language_info": {
   "codemirror_mode": {
    "name": "ipython",
    "version": 3
   },
   "file_extension": ".py",
   "mimetype": "text/x-python",
   "name": "python",
   "nbconvert_exporter": "python",
   "pygments_lexer": "ipython3",
   "version": "3.12.2"
  }
 },
 "nbformat": 4,
 "nbformat_minor": 2
}
